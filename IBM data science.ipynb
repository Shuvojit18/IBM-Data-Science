{
 "cells": [
  {
   "cell_type": "markdown",
   "id": "efc0d283",
   "metadata": {},
   "source": [
    "# IBM Data science - Tools of data science"
   ]
  },
  {
   "cell_type": "markdown",
   "id": "b6f961b5",
   "metadata": {},
   "source": [
    "This is a intro for the tools of data science "
   ]
  },
  {
   "cell_type": "markdown",
   "id": "9daf422d",
   "metadata": {},
   "source": [
    "Python and R"
   ]
  },
  {
   "cell_type": "markdown",
   "id": "3d774fdb",
   "metadata": {},
   "source": [
    "Pandas, numpy, Scikit-learn"
   ]
  },
  {
   "cell_type": "markdown",
   "id": "f63f3617",
   "metadata": {},
   "source": [
    "| tool | tool | tool |\n",
    "| --- | --- | --- |\n",
    "| Apache spark | SAS | BigML |"
   ]
  },
  {
   "cell_type": "markdown",
   "id": "36cfaf98",
   "metadata": {},
   "source": [
    "$ x+y $"
   ]
  },
  {
   "cell_type": "code",
   "execution_count": 5,
   "id": "cfb9c536",
   "metadata": {},
   "outputs": [
    {
     "data": {
      "text/plain": [
       "10"
      ]
     },
     "execution_count": 5,
     "metadata": {},
     "output_type": "execute_result"
    }
   ],
   "source": [
    "2*5"
   ]
  },
  {
   "cell_type": "code",
   "execution_count": 6,
   "id": "cf04dfc8",
   "metadata": {},
   "outputs": [
    {
     "data": {
      "text/plain": [
       "7"
      ]
     },
     "execution_count": 6,
     "metadata": {},
     "output_type": "execute_result"
    }
   ],
   "source": [
    "2+5"
   ]
  },
  {
   "cell_type": "code",
   "execution_count": 13,
   "id": "ee658b13",
   "metadata": {},
   "outputs": [
    {
     "name": "stdout",
     "output_type": "stream",
     "text": [
      "1.5\n"
     ]
    }
   ],
   "source": [
    "m = 90;\n",
    "\n",
    "h = m/60;\n",
    "print(h);"
   ]
  },
  {
   "cell_type": "markdown",
   "id": "8805e975",
   "metadata": {},
   "source": [
    "Shuvojit "
   ]
  },
  {
   "cell_type": "code",
   "execution_count": null,
   "id": "42e63bdf",
   "metadata": {},
   "outputs": [],
   "source": []
  }
 ],
 "metadata": {
  "kernelspec": {
   "display_name": "Python 3 (ipykernel)",
   "language": "python",
   "name": "python3"
  },
  "language_info": {
   "codemirror_mode": {
    "name": "ipython",
    "version": 3
   },
   "file_extension": ".py",
   "mimetype": "text/x-python",
   "name": "python",
   "nbconvert_exporter": "python",
   "pygments_lexer": "ipython3",
   "version": "3.9.13"
  }
 },
 "nbformat": 4,
 "nbformat_minor": 5
}
